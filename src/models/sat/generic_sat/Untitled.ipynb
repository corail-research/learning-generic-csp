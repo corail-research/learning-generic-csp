{
 "cells": [
  {
   "cell_type": "code",
   "execution_count": 1,
   "id": "a125f875",
   "metadata": {},
   "outputs": [],
   "source": [
    "from torch_geometric.nn.conv import MessagePassing"
   ]
  },
  {
   "cell_type": "code",
   "execution_count": 2,
   "id": "7458644f",
   "metadata": {},
   "outputs": [
    {
     "data": {
      "text/plain": [
       "torch_geometric.nn.conv.message_passing.MessagePassing"
      ]
     },
     "execution_count": 2,
     "metadata": {},
     "output_type": "execute_result"
    }
   ],
   "source": [
    "MessagePassing"
   ]
  },
  {
   "cell_type": "code",
   "execution_count": 3,
   "id": "4388708b",
   "metadata": {},
   "outputs": [],
   "source": [
    "BATCH_SIZE = 32"
   ]
  },
  {
   "cell_type": "code",
   "execution_count": 4,
   "id": "2fca29d3",
   "metadata": {},
   "outputs": [],
   "source": [
    "\n",
    "from torch_geometric.loader import DataLoader\n",
    "from dataset import SatDataset\n",
    "\n",
    "test_path = r\"C:\\Users\\leobo\\Desktop\\École\\Poly\\Recherche\\Generic-Graph-Representation\\Graph-Representation\\src\\models\\sat\\generic_sat\\data\\train\"\n",
    "dataset = SatDataset(root=test_path, graph_type=\"refactored\", meta_connected_to_all=True, use_sat_label_as_feature=False)\n",
    "loader = DataLoader(dataset, batch_size=BATCH_SIZE, shuffle=False, num_workers=0)"
   ]
  },
  {
   "cell_type": "code",
   "execution_count": 9,
   "id": "20b3fc38",
   "metadata": {},
   "outputs": [],
   "source": [
    "from torch.nn import Dropout\n",
    "from torch_geometric.nn.models import MLP\n",
    "import torch\n",
    "import torch.nn.functional as F\n",
    "from torch.nn import Linear\n",
    "from mlp import LayerNormLSTMCell"
   ]
  },
  {
   "cell_type": "code",
   "execution_count": 11,
   "id": "f03c8568",
   "metadata": {},
   "outputs": [
    {
     "data": {
      "text/plain": [
       "HeteroData(\n",
       "  \u001b[1mvariable\u001b[0m={\n",
       "    x=[3, 1],\n",
       "    y=[1]\n",
       "  },\n",
       "  \u001b[1mvalue\u001b[0m={ x=[2, 1] },\n",
       "  \u001b[1moperator\u001b[0m={ x=[3, 1] },\n",
       "  \u001b[1mconstraint\u001b[0m={ x=[19, 2] },\n",
       "  \u001b[1mmeta\u001b[0m={ x=[1, 2] },\n",
       "  \u001b[1m(variable, has_domain, value)\u001b[0m={ edge_index=[2, 6] },\n",
       "  \u001b[1m(variable, affected_by, operator)\u001b[0m={ edge_index=[2, 3] },\n",
       "  \u001b[1m(variable, appears_in, constraint)\u001b[0m={ edge_index=[2, 26] },\n",
       "  \u001b[1m(operator, connects_variable_to, constraint)\u001b[0m={ edge_index=[2, 30] },\n",
       "  \u001b[1m(meta, has_constraint, constraint)\u001b[0m={ edge_index=[2, 19] },\n",
       "  \u001b[1m(meta, has_variable, variable)\u001b[0m={ edge_index=[2, 3] },\n",
       "  \u001b[1m(meta, has_value, value)\u001b[0m={ edge_index=[2, 2] },\n",
       "  \u001b[1m(meta, has_operator, operator)\u001b[0m={ edge_index=[2, 3] },\n",
       "  \u001b[1m(value, rev_has_domain, variable)\u001b[0m={ edge_index=[2, 6] },\n",
       "  \u001b[1m(operator, rev_affected_by, variable)\u001b[0m={ edge_index=[2, 3] },\n",
       "  \u001b[1m(constraint, rev_appears_in, variable)\u001b[0m={ edge_index=[2, 26] },\n",
       "  \u001b[1m(constraint, rev_connects_variable_to, operator)\u001b[0m={ edge_index=[2, 30] },\n",
       "  \u001b[1m(constraint, rev_has_constraint, meta)\u001b[0m={ edge_index=[2, 19] },\n",
       "  \u001b[1m(variable, rev_has_variable, meta)\u001b[0m={ edge_index=[2, 3] },\n",
       "  \u001b[1m(value, rev_has_value, meta)\u001b[0m={ edge_index=[2, 2] },\n",
       "  \u001b[1m(operator, rev_has_operator, meta)\u001b[0m={ edge_index=[2, 3] }\n",
       ")"
      ]
     },
     "execution_count": 11,
     "metadata": {},
     "output_type": "execute_result"
    }
   ],
   "source": [
    "dataset[0]\n"
   ]
  },
  {
   "cell_type": "code",
   "execution_count": 10,
   "id": "3b5f7240",
   "metadata": {},
   "outputs": [],
   "source": [
    "class NeuroSatLSTM(torch.nn.Module):\n",
    "    def __init__(self, hidden_channels, out_channels, num_layers, data, num_updates=26, dropout_prob=0, device=\"cuda:0\"):\n",
    "        self.hidden_channels = hidden_channels\n",
    "        self.device = 'cuda' if torch.cuda.is_available() else 'cpu'\n",
    "\n",
    "        self.lstm_state_tuple = namedtuple('LSTMState', ('h','c'))\n",
    "        self.final_reducer = F.relu\n",
    "        self.decode_transfer_fn = F.relu\n",
    "\n",
    "        self.variable_init = torch.empty((1, hidden_channels),device=self.device)\n",
    "        torch.nn.init.xavier_uniform_(self.variable_init)\n",
    "        \n",
    "        # self.value_init = torch.empty((1, hidden_channels),device=self.device)\n",
    "        # torch.nn.init.normal_(self.variable_init)\n",
    "        \n",
    "        self.operator_init = torch.empty((1, hidden_channels),device=self.device)\n",
    "        torch.nn.init.xavier_uniform_(self.operator_init)\n",
    "        \n",
    "        self.constraint_init = torch.empty((1, hidden_channels),device=self.device)\n",
    "        torch.nn.init.xavier_uniform_(self.constraint_init)\n",
    "\n",
    "        self.value_msg = MLP(hidden_channels, repeat_end(hidden_channels, num_layers, hidden_channels), device=self.device) # 1 for variable\n",
    "        self.variable_msg = MLP(hidden_channels * 3, repeat_end(hidden_channels, num_layers, hidden_channels), device=self.device) # 3 for constraint, operator, value\n",
    "        self.operator_msg = MLP(hidden_channels * 2, repeat_end(hidden_channels, num_layers, hidden_channels), device=self.device) # 2 for constraint, variable\n",
    "        self.constraint_msg = MLP(hidden_channels * 2, repeat_end(hidden_channels, num_layers, hidden_channels), device=self.device) # 2 for operator, variable\n",
    "\n",
    "        self.variable_update = LayerNormLSTMCell(hidden_channels, activation=self.decode_transfer_fn, state_tuple=self.lstm_state_tuple, device=self.device)\n",
    "        self.constraint_update = LayerNormLSTMCell(hidden_channels, activation=self.decode_transfer_fn, state_tuple=self.lstm_state_tuple, device=self.device)\n",
    "        self.operator_update = LayerNormLSTMCell(hidden_channels, activation=self.decode_transfer_fn, state_tuple=self.lstm_state_tuple, device=self.device)\n",
    "        self.value_update = LayerNormLSTMCell(hidden_channels, activation=self.decode_transfer_fn, state_tuple=self.lstm_state_tuple, device=self.device)\n",
    "\n",
    "        self.variable_vote = MLP(hidden_channels, repeat_end(hidden_channels, num_layers, 1),device=self.device)\n",
    "        self.vote_bias = torch.nn.Parameter(torch.zeros(1, device=self.device))    \n",
    "\n",
    "        self.param_list = list(self.value_msg.parameters()) \\\n",
    "            + list(self.variable_msg.parameters()) \\\n",
    "            + list(self.operator_msg.parameters()) \\\n",
    "            + list(self.constraint_msg.parameters()) \\\n",
    "            + list(self.value_update.parameters()) \\\n",
    "            + list(self.variable_update.parameters()) \\\n",
    "            + list(self.operator_update.parameters()) \\\n",
    "            + list(self.constraint_update.parameters()) \\\n",
    "            + list(self.variable_vote.parameters()) + [self.vote_bias]\n",
    "    \n",
    "    def forward(self, node_dict, edge_dict, batch_dict):    \n",
    "        value_output = torch.tile(self.value_init, [2, 1])\n",
    "        variable_output = torch.tile(self.variable_init, [self.num_variables, 1])\n",
    "        constraint_output = torch.tile(self.operator_init, [self.num_constraints, 1])\n",
    "        operator_output = torch.tile(self.constraint_init, [self.num_operators, 1])\n",
    "\n",
    "        value_state = self.lstm_state_tuple(h=value_output, c=torch.zeros([2, self.hidden_channels],device=self.device))\n",
    "        variable_state = self.lstm_state_tuple(h=variable_output, c=torch.zeros([self.num_variables, self.hidden_channels],device=self.device))\n",
    "        operator_state = self.lstm_state_tuple(h=operator_output, c=torch.zeros([self.num_operators, self.hidden_channels],device=self.device))\n",
    "        constraint_state = self.lstm_state_tuple(h=constraint_output, c=torch.zeros([self.num_constraints, self.hidden_channels],device=self.device))\n",
    "\n",
    "        for _ in range(self.num_updates):\n",
    "            value_pre_msgs = self.value_msg.forward(variable_state.h)\n",
    "            value_state = self.value_update(inputs=value_pre_msgs, state=value_state)\n",
    "            \n",
    "            variable_input = torch.cat([value_state.h, operator_state.h, constraint_state.h], axis=1)\n",
    "            variable_pre_msgs = self.variable_msg.forward(variable_input)\n",
    "            variable_state = self.variable_update(inputs=variable_pre_msgs, state=variable_state)\n",
    "            \n",
    "            operator_input = torch.cat([variable_state.h, constraint_state.h], axis=1)\n",
    "            operator_pre_msgs = self.operator_msg.forward(operator_input)\n",
    "            operator_state = self.operator_update(inputs=operator_pre_msgs, state=operator_state)\n",
    "\n",
    "            constraint_input = torch.cat([variable_state.h, operator_state.h], axis=1)\n",
    "            constraint_pre_msgs = self.constraint_msg.forward(constraint_input)\n",
    "            constraint_state = self.constraint_update(inputs=constraint_pre_msgs, state=constraint_state)\n",
    "        \n",
    "        return variable_state.h\n",
    "        "
   ]
  },
  {
   "cell_type": "code",
   "execution_count": 13,
   "id": "c49eeab5",
   "metadata": {},
   "outputs": [],
   "source": [
    "sample = dataset[0]"
   ]
  },
  {
   "cell_type": "code",
   "execution_count": 14,
   "id": "6a957d78",
   "metadata": {},
   "outputs": [
    {
     "data": {
      "text/plain": [
       "HeteroData(\n",
       "  \u001b[1mvariable\u001b[0m={\n",
       "    x=[3, 1],\n",
       "    y=[1]\n",
       "  },\n",
       "  \u001b[1mvalue\u001b[0m={ x=[2, 1] },\n",
       "  \u001b[1moperator\u001b[0m={ x=[3, 1] },\n",
       "  \u001b[1mconstraint\u001b[0m={ x=[19, 2] },\n",
       "  \u001b[1mmeta\u001b[0m={ x=[1, 2] },\n",
       "  \u001b[1m(variable, has_domain, value)\u001b[0m={ edge_index=[2, 6] },\n",
       "  \u001b[1m(variable, affected_by, operator)\u001b[0m={ edge_index=[2, 3] },\n",
       "  \u001b[1m(variable, appears_in, constraint)\u001b[0m={ edge_index=[2, 26] },\n",
       "  \u001b[1m(operator, connects_variable_to, constraint)\u001b[0m={ edge_index=[2, 30] },\n",
       "  \u001b[1m(meta, has_constraint, constraint)\u001b[0m={ edge_index=[2, 19] },\n",
       "  \u001b[1m(meta, has_variable, variable)\u001b[0m={ edge_index=[2, 3] },\n",
       "  \u001b[1m(meta, has_value, value)\u001b[0m={ edge_index=[2, 2] },\n",
       "  \u001b[1m(meta, has_operator, operator)\u001b[0m={ edge_index=[2, 3] },\n",
       "  \u001b[1m(value, rev_has_domain, variable)\u001b[0m={ edge_index=[2, 6] },\n",
       "  \u001b[1m(operator, rev_affected_by, variable)\u001b[0m={ edge_index=[2, 3] },\n",
       "  \u001b[1m(constraint, rev_appears_in, variable)\u001b[0m={ edge_index=[2, 26] },\n",
       "  \u001b[1m(constraint, rev_connects_variable_to, operator)\u001b[0m={ edge_index=[2, 30] },\n",
       "  \u001b[1m(constraint, rev_has_constraint, meta)\u001b[0m={ edge_index=[2, 19] },\n",
       "  \u001b[1m(variable, rev_has_variable, meta)\u001b[0m={ edge_index=[2, 3] },\n",
       "  \u001b[1m(value, rev_has_value, meta)\u001b[0m={ edge_index=[2, 2] },\n",
       "  \u001b[1m(operator, rev_has_operator, meta)\u001b[0m={ edge_index=[2, 3] }\n",
       ")"
      ]
     },
     "execution_count": 14,
     "metadata": {},
     "output_type": "execute_result"
    }
   ],
   "source": [
    "sample"
   ]
  },
  {
   "cell_type": "code",
   "execution_count": 17,
   "id": "dd02ed21",
   "metadata": {},
   "outputs": [
    {
     "ename": "AttributeError",
     "evalue": "'DataLoader' object has no attribute 'get'",
     "output_type": "error",
     "traceback": [
      "\u001b[1;31m---------------------------------------------------------------------------\u001b[0m",
      "\u001b[1;31mAttributeError\u001b[0m                            Traceback (most recent call last)",
      "Input \u001b[1;32mIn [17]\u001b[0m, in \u001b[0;36m<cell line: 1>\u001b[1;34m()\u001b[0m\n\u001b[1;32m----> 1\u001b[0m \u001b[43mloader\u001b[49m\u001b[38;5;241;43m.\u001b[39;49m\u001b[43mget\u001b[49m(\u001b[38;5;241m0\u001b[39m)\n",
      "\u001b[1;31mAttributeError\u001b[0m: 'DataLoader' object has no attribute 'get'"
     ]
    }
   ],
   "source": [
    "loader.get(0)"
   ]
  },
  {
   "cell_type": "code",
   "execution_count": 18,
   "id": "26a7f905",
   "metadata": {},
   "outputs": [
    {
     "data": {
      "text/plain": [
       "{'variable': tensor([[1.],\n",
       "         [1.],\n",
       "         [1.]]),\n",
       " 'value': tensor([[0.],\n",
       "         [1.]]),\n",
       " 'operator': tensor([[-1.],\n",
       "         [-1.],\n",
       "         [-1.]]),\n",
       " 'constraint': tensor([[1.0000, 1.0000],\n",
       "         [1.0000, 1.0000],\n",
       "         [1.0000, 1.0000],\n",
       "         [1.0000, 1.0000],\n",
       "         [1.0000, 1.0000],\n",
       "         [1.0000, 1.0000],\n",
       "         [1.0000, 1.0000],\n",
       "         [1.0000, 1.0000],\n",
       "         [1.0000, 1.0000],\n",
       "         [1.0000, 1.0000],\n",
       "         [1.0000, 1.0000],\n",
       "         [1.0000, 1.0000],\n",
       "         [1.0000, 1.0000],\n",
       "         [1.0000, 1.0000],\n",
       "         [1.0000, 1.0000],\n",
       "         [1.0000, 0.6667],\n",
       "         [1.0000, 1.0000],\n",
       "         [1.0000, 1.0000],\n",
       "         [1.0000, 1.0000]]),\n",
       " 'meta': tensor([[19.,  3.]])}"
      ]
     },
     "execution_count": 18,
     "metadata": {},
     "output_type": "execute_result"
    }
   ],
   "source": [
    "sample.x_dict"
   ]
  },
  {
   "cell_type": "code",
   "execution_count": 24,
   "id": "33ec3d48",
   "metadata": {
    "scrolled": false
   },
   "outputs": [
    {
     "data": {
      "text/plain": [
       "{('variable',\n",
       "  'has_domain',\n",
       "  'value'): tensor([[0, 0, 1, 1, 2, 2, 3, 3, 4, 4, 5, 5, 6, 6],\n",
       "         [0, 1, 0, 1, 0, 1, 0, 1, 0, 1, 0, 1, 0, 1]]),\n",
       " ('variable',\n",
       "  'affected_by',\n",
       "  'operator'): tensor([[6, 4, 1, 5, 0, 2, 3],\n",
       "         [6, 4, 1, 5, 0, 2, 3]]),\n",
       " ('variable',\n",
       "  'appears_in',\n",
       "  'constraint'): tensor([[ 0,  2,  4,  6,  2,  3,  3,  6,  5,  3,  4,  6,  1,  5,  2,  2,  3,  5,\n",
       "           4,  0,  1,  2,  3,  4,  5,  6,  6,  2,  3,  5,  0,  1,  4,  0,  4,  6,\n",
       "           2,  1,  2,  3,  4,  5,  1,  2,  4,  2,  5,  3,  6,  5,  3,  6,  1,  2,\n",
       "           2,  4,  3,  4,  0,  2,  1,  3,  4,  0,  1,  4,  2,  3,  4,  5,  2,  1,\n",
       "           2,  5,  2,  5,  0,  1,  2,  3,  0,  4,  5,  0,  1,  3,  4,  5,  2,  4,\n",
       "           4,  3,  5,  4,  5,  0],\n",
       "         [ 1,  1,  1,  1,  2,  2,  3,  4,  5,  6,  6,  6,  8,  8, 10, 11, 11, 11,\n",
       "          12, 13, 13, 13, 13, 13, 13, 13, 14, 15, 15, 15, 17, 17, 17, 18, 18, 18,\n",
       "          19, 20, 20, 20, 20, 20, 22, 22, 22, 23, 24, 25, 25, 25, 26, 26, 27, 27,\n",
       "          28, 28, 29, 29, 30, 31, 32, 32, 32, 33, 33, 33, 34, 36, 36, 36, 37, 37,\n",
       "          38, 38, 39, 39, 40, 40, 40, 40, 41, 41, 41, 42, 42, 42, 42, 42, 43, 43,\n",
       "          44, 45, 45, 46, 46, 47]]),\n",
       " ('operator',\n",
       "  'connects_variable_to',\n",
       "  'constraint'): tensor([[ 6,  4,  1,  6,  5,  4,  4,  0,  2,  5,  2,  1,  6,  4,  3,  0,  6,  4,\n",
       "           2,  6,  2,  0,  5,  1,  0,  1,  5,  4,  3,  0,  5,  3,  4,  6,  0,  6,\n",
       "           2,  6,  5,  3,  0,  3,  1,  0,  4,  0,  2,  0,  5,  4,  0,  0,  6,  5,\n",
       "           3,  1,  6,  5,  6,  3,  3,  4,  3,  6,  5,  2,  5,  3,  0,  6,  4,  3,\n",
       "           1,  6,  0,  5,  4,  3,  1,  6,  2,  6,  5,  1,  6,  3,  4,  1,  3,  3,\n",
       "           2],\n",
       "         [ 0,  0,  0,  2,  3,  3,  4,  4,  5,  7,  7,  7,  8,  8,  8,  8,  9,  9,\n",
       "           9, 10, 12, 12, 14, 14, 15, 15, 16, 16, 16, 16, 18, 18, 19, 20, 20, 21,\n",
       "          21, 22, 22, 22, 22, 23, 23, 23, 24, 25, 26, 26, 27, 27, 27, 28, 28, 28,\n",
       "          28, 28, 29, 29, 30, 30, 31, 34, 34, 35, 35, 35, 37, 37, 38, 38, 38, 38,\n",
       "          38, 39, 39, 40, 40, 41, 41, 42, 42, 43, 43, 43, 44, 44, 45, 45, 46, 47,\n",
       "          47]]),\n",
       " ('meta',\n",
       "  'has_constraint',\n",
       "  'constraint'): tensor([[ 0,  0,  0,  0,  0,  0,  0,  0,  0,  0,  0,  0,  0,  0,  0,  0,  0,  0,\n",
       "           0,  0,  0,  0,  0,  0,  0,  0,  0,  0,  0,  0,  0,  0,  0,  0,  0,  0,\n",
       "           0,  0,  0,  0,  0,  0,  0,  0,  0,  0,  0,  0],\n",
       "         [ 0,  1,  2,  3,  4,  5,  6,  7,  8,  9, 10, 11, 12, 13, 14, 15, 16, 17,\n",
       "          18, 19, 20, 21, 22, 23, 24, 25, 26, 27, 28, 29, 30, 31, 32, 33, 34, 35,\n",
       "          36, 37, 38, 39, 40, 41, 42, 43, 44, 45, 46, 47]]),\n",
       " ('meta',\n",
       "  'has_variable',\n",
       "  'variable'): tensor([[0, 0, 0, 0, 0, 0, 0],\n",
       "         [0, 1, 2, 3, 4, 5, 6]]),\n",
       " ('meta',\n",
       "  'has_value',\n",
       "  'value'): tensor([[0, 0],\n",
       "         [0, 1]]),\n",
       " ('meta',\n",
       "  'has_operator',\n",
       "  'operator'): tensor([[0, 0, 0, 0, 0, 0, 0],\n",
       "         [0, 1, 2, 3, 4, 5, 6]]),\n",
       " ('value',\n",
       "  'rev_has_domain',\n",
       "  'variable'): tensor([[0, 1, 0, 1, 0, 1, 0, 1, 0, 1, 0, 1, 0, 1],\n",
       "         [0, 0, 1, 1, 2, 2, 3, 3, 4, 4, 5, 5, 6, 6]]),\n",
       " ('operator',\n",
       "  'rev_affected_by',\n",
       "  'variable'): tensor([[6, 4, 1, 5, 0, 2, 3],\n",
       "         [6, 4, 1, 5, 0, 2, 3]]),\n",
       " ('constraint',\n",
       "  'rev_appears_in',\n",
       "  'variable'): tensor([[ 1,  1,  1,  1,  2,  2,  3,  4,  5,  6,  6,  6,  8,  8, 10, 11, 11, 11,\n",
       "          12, 13, 13, 13, 13, 13, 13, 13, 14, 15, 15, 15, 17, 17, 17, 18, 18, 18,\n",
       "          19, 20, 20, 20, 20, 20, 22, 22, 22, 23, 24, 25, 25, 25, 26, 26, 27, 27,\n",
       "          28, 28, 29, 29, 30, 31, 32, 32, 32, 33, 33, 33, 34, 36, 36, 36, 37, 37,\n",
       "          38, 38, 39, 39, 40, 40, 40, 40, 41, 41, 41, 42, 42, 42, 42, 42, 43, 43,\n",
       "          44, 45, 45, 46, 46, 47],\n",
       "         [ 0,  2,  4,  6,  2,  3,  3,  6,  5,  3,  4,  6,  1,  5,  2,  2,  3,  5,\n",
       "           4,  0,  1,  2,  3,  4,  5,  6,  6,  2,  3,  5,  0,  1,  4,  0,  4,  6,\n",
       "           2,  1,  2,  3,  4,  5,  1,  2,  4,  2,  5,  3,  6,  5,  3,  6,  1,  2,\n",
       "           2,  4,  3,  4,  0,  2,  1,  3,  4,  0,  1,  4,  2,  3,  4,  5,  2,  1,\n",
       "           2,  5,  2,  5,  0,  1,  2,  3,  0,  4,  5,  0,  1,  3,  4,  5,  2,  4,\n",
       "           4,  3,  5,  4,  5,  0]]),\n",
       " ('constraint',\n",
       "  'rev_connects_variable_to',\n",
       "  'operator'): tensor([[ 0,  0,  0,  2,  3,  3,  4,  4,  5,  7,  7,  7,  8,  8,  8,  8,  9,  9,\n",
       "           9, 10, 12, 12, 14, 14, 15, 15, 16, 16, 16, 16, 18, 18, 19, 20, 20, 21,\n",
       "          21, 22, 22, 22, 22, 23, 23, 23, 24, 25, 26, 26, 27, 27, 27, 28, 28, 28,\n",
       "          28, 28, 29, 29, 30, 30, 31, 34, 34, 35, 35, 35, 37, 37, 38, 38, 38, 38,\n",
       "          38, 39, 39, 40, 40, 41, 41, 42, 42, 43, 43, 43, 44, 44, 45, 45, 46, 47,\n",
       "          47],\n",
       "         [ 6,  4,  1,  6,  5,  4,  4,  0,  2,  5,  2,  1,  6,  4,  3,  0,  6,  4,\n",
       "           2,  6,  2,  0,  5,  1,  0,  1,  5,  4,  3,  0,  5,  3,  4,  6,  0,  6,\n",
       "           2,  6,  5,  3,  0,  3,  1,  0,  4,  0,  2,  0,  5,  4,  0,  0,  6,  5,\n",
       "           3,  1,  6,  5,  6,  3,  3,  4,  3,  6,  5,  2,  5,  3,  0,  6,  4,  3,\n",
       "           1,  6,  0,  5,  4,  3,  1,  6,  2,  6,  5,  1,  6,  3,  4,  1,  3,  3,\n",
       "           2]]),\n",
       " ('constraint',\n",
       "  'rev_has_constraint',\n",
       "  'meta'): tensor([[ 0,  1,  2,  3,  4,  5,  6,  7,  8,  9, 10, 11, 12, 13, 14, 15, 16, 17,\n",
       "          18, 19, 20, 21, 22, 23, 24, 25, 26, 27, 28, 29, 30, 31, 32, 33, 34, 35,\n",
       "          36, 37, 38, 39, 40, 41, 42, 43, 44, 45, 46, 47],\n",
       "         [ 0,  0,  0,  0,  0,  0,  0,  0,  0,  0,  0,  0,  0,  0,  0,  0,  0,  0,\n",
       "           0,  0,  0,  0,  0,  0,  0,  0,  0,  0,  0,  0,  0,  0,  0,  0,  0,  0,\n",
       "           0,  0,  0,  0,  0,  0,  0,  0,  0,  0,  0,  0]]),\n",
       " ('variable',\n",
       "  'rev_has_variable',\n",
       "  'meta'): tensor([[0, 1, 2, 3, 4, 5, 6],\n",
       "         [0, 0, 0, 0, 0, 0, 0]]),\n",
       " ('value',\n",
       "  'rev_has_value',\n",
       "  'meta'): tensor([[0, 1],\n",
       "         [0, 0]]),\n",
       " ('operator',\n",
       "  'rev_has_operator',\n",
       "  'meta'): tensor([[0, 1, 2, 3, 4, 5, 6],\n",
       "         [0, 0, 0, 0, 0, 0, 0]])}"
      ]
     },
     "execution_count": 24,
     "metadata": {},
     "output_type": "execute_result"
    }
   ],
   "source": [
    "dataset[1400].edge_index_dict"
   ]
  },
  {
   "cell_type": "code",
   "execution_count": 30,
   "id": "f8f82829",
   "metadata": {},
   "outputs": [
    {
     "data": {
      "text/plain": [
       "tensor([[0.3862, 0.8596, 0.7696]], device='cuda:0')"
      ]
     },
     "execution_count": 30,
     "metadata": {},
     "output_type": "execute_result"
    }
   ],
   "source": [
    "variable_init = torch.empty((1, 3),device=\"cuda\")\n",
    "torch.nn.init.xavier_normal_(variable_init)"
   ]
  },
  {
   "cell_type": "code",
   "execution_count": 33,
   "id": "256d3f87",
   "metadata": {},
   "outputs": [],
   "source": [
    "variable = torch.tile(variable_init, [7, 1])"
   ]
  },
  {
   "cell_type": "code",
   "execution_count": 34,
   "id": "b74f371d",
   "metadata": {},
   "outputs": [
    {
     "data": {
      "text/plain": [
       "tensor([[0.3862, 0.8596, 0.7696],\n",
       "        [0.3862, 0.8596, 0.7696],\n",
       "        [0.3862, 0.8596, 0.7696],\n",
       "        [0.3862, 0.8596, 0.7696],\n",
       "        [0.3862, 0.8596, 0.7696],\n",
       "        [0.3862, 0.8596, 0.7696],\n",
       "        [0.3862, 0.8596, 0.7696]], device='cuda:0')"
      ]
     },
     "execution_count": 34,
     "metadata": {},
     "output_type": "execute_result"
    }
   ],
   "source": [
    "variable"
   ]
  },
  {
   "cell_type": "code",
   "execution_count": 36,
   "id": "b2d28e62",
   "metadata": {},
   "outputs": [],
   "source": [
    "iter_loader = iter(loader)"
   ]
  },
  {
   "cell_type": "code",
   "execution_count": 37,
   "id": "c19aa00f",
   "metadata": {},
   "outputs": [],
   "source": [
    "batch = next(iter_loader)"
   ]
  },
  {
   "cell_type": "code",
   "execution_count": 40,
   "id": "05daae4c",
   "metadata": {},
   "outputs": [
    {
     "data": {
      "text/plain": [
       "{'variable': tensor([ 0,  0,  0,  1,  1,  1,  2,  2,  2,  3,  3,  3,  4,  4,  4,  5,  5,  5,\n",
       "          6,  6,  6,  7,  7,  7,  8,  8,  8,  9,  9,  9, 10, 10, 10, 11, 11, 11,\n",
       "         12, 12, 12, 13, 13, 13, 14, 14, 14, 15, 15, 15, 16, 16, 16, 17, 17, 17,\n",
       "         18, 18, 18, 19, 19, 19, 20, 20, 20, 21, 21, 21, 22, 22, 22, 23, 23, 23,\n",
       "         24, 24, 24, 25, 25, 25, 26, 26, 26, 27, 27, 27, 28, 28, 28, 29, 29, 29,\n",
       "         30, 30, 30, 31, 31, 31]),\n",
       " 'value': tensor([ 0,  0,  1,  1,  2,  2,  3,  3,  4,  4,  5,  5,  6,  6,  7,  7,  8,  8,\n",
       "          9,  9, 10, 10, 11, 11, 12, 12, 13, 13, 14, 14, 15, 15, 16, 16, 17, 17,\n",
       "         18, 18, 19, 19, 20, 20, 21, 21, 22, 22, 23, 23, 24, 24, 25, 25, 26, 26,\n",
       "         27, 27, 28, 28, 29, 29, 30, 30, 31, 31]),\n",
       " 'operator': tensor([ 0,  0,  0,  1,  1,  1,  2,  2,  2,  3,  3,  3,  4,  4,  4,  5,  5,  5,\n",
       "          6,  6,  6,  7,  7,  7,  8,  8,  8,  9,  9,  9, 10, 10, 10, 11, 11, 11,\n",
       "         12, 12, 12, 13, 13, 13, 14, 14, 14, 15, 15, 15, 16, 16, 16, 17, 17, 17,\n",
       "         18, 18, 18, 19, 19, 19, 20, 20, 20, 21, 21, 21, 22, 22, 22, 23, 23, 23,\n",
       "         24, 24, 24, 25, 25, 25, 26, 26, 26, 27, 27, 27, 28, 28, 28, 29, 29, 29,\n",
       "         30, 30, 30, 31, 31, 31]),\n",
       " 'constraint': tensor([ 0,  0,  0,  0,  0,  0,  0,  0,  0,  0,  0,  0,  0,  0,  0,  0,  0,  0,\n",
       "          0,  1,  1,  1,  1,  1,  1,  1,  1,  1,  1,  1,  1,  1,  1,  1,  1,  1,\n",
       "          1,  1,  2,  2,  2,  2,  2,  2,  2,  2,  2,  2,  2,  2,  2,  3,  3,  3,\n",
       "          3,  3,  3,  3,  3,  3,  3,  3,  3,  3,  4,  4,  4,  4,  4,  4,  4,  4,\n",
       "          4,  4,  4,  4,  4,  4,  4,  4,  4,  4,  4,  4,  4,  4,  4,  4,  4,  4,\n",
       "          4,  4,  4,  4,  4,  4,  4,  4,  4,  4,  4,  4,  4,  4,  4,  4,  4,  4,\n",
       "          4,  4,  5,  5,  5,  5,  5,  5,  5,  5,  5,  5,  5,  5,  5,  5,  5,  5,\n",
       "          5,  5,  5,  5,  5,  5,  5,  5,  5,  5,  5,  5,  5,  5,  5,  5,  5,  5,\n",
       "          5,  5,  5,  5,  5,  5,  5,  5,  5,  5,  5,  5,  6,  6,  6,  6,  6,  6,\n",
       "          6,  6,  6,  6,  6,  7,  7,  7,  7,  7,  7,  7,  7,  7,  7,  7,  8,  8,\n",
       "          8,  8,  8,  8,  8,  8,  8,  8,  8,  8,  8,  8,  8,  8,  8,  8,  8,  8,\n",
       "          8,  8,  9,  9,  9,  9,  9,  9,  9,  9,  9,  9,  9,  9,  9,  9,  9,  9,\n",
       "          9,  9,  9,  9,  9,  9, 10, 10, 10, 10, 10, 10, 10, 10, 10, 10, 10, 10,\n",
       "         10, 10, 10, 10, 10, 10, 10, 10, 10, 10, 10, 10, 11, 11, 11, 11, 11, 11,\n",
       "         11, 11, 11, 11, 11, 11, 11, 11, 11, 11, 11, 11, 11, 11, 11, 11, 11, 11,\n",
       "         12, 12, 12, 12, 12, 12, 12, 12, 12, 12, 12, 12, 12, 12, 12, 12, 12, 12,\n",
       "         12, 12, 12, 13, 13, 13, 13, 13, 13, 13, 13, 13, 13, 13, 13, 13, 13, 13,\n",
       "         13, 13, 13, 13, 13, 13, 14, 14, 14, 14, 14, 14, 14, 14, 14, 14, 14, 14,\n",
       "         14, 14, 15, 15, 15, 15, 15, 15, 15, 15, 15, 15, 15, 15, 15, 15, 16, 16,\n",
       "         16, 16, 16, 16, 16, 16, 16, 16, 16, 16, 16, 16, 16, 16, 16, 16, 16, 16,\n",
       "         16, 16, 16, 16, 16, 16, 16, 16, 16, 16, 17, 17, 17, 17, 17, 17, 17, 17,\n",
       "         17, 17, 17, 17, 17, 17, 17, 17, 17, 17, 17, 17, 17, 17, 17, 17, 17, 17,\n",
       "         17, 17, 17, 17, 18, 18, 18, 18, 18, 18, 18, 18, 18, 18, 18, 18, 18, 18,\n",
       "         18, 19, 19, 19, 19, 19, 19, 19, 19, 19, 19, 19, 19, 19, 19, 19, 20, 20,\n",
       "         20, 20, 20, 20, 20, 20, 20, 20, 20, 20, 20, 20, 20, 20, 20, 20, 20, 20,\n",
       "         20, 20, 21, 21, 21, 21, 21, 21, 21, 21, 21, 21, 21, 21, 21, 21, 21, 21,\n",
       "         21, 21, 21, 21, 21, 21, 22, 22, 22, 22, 22, 22, 22, 22, 22, 22, 22, 22,\n",
       "         22, 22, 22, 22, 22, 22, 22, 22, 23, 23, 23, 23, 23, 23, 23, 23, 23, 23,\n",
       "         23, 23, 23, 23, 23, 23, 23, 23, 23, 23, 24, 24, 24, 24, 24, 24, 24, 24,\n",
       "         24, 24, 24, 24, 25, 25, 25, 25, 25, 25, 25, 25, 25, 25, 25, 25, 26, 26,\n",
       "         26, 26, 26, 26, 26, 26, 26, 27, 27, 27, 27, 27, 27, 27, 27, 27, 28, 28,\n",
       "         28, 28, 28, 28, 28, 28, 28, 28, 28, 28, 28, 28, 28, 28, 28, 28, 28, 28,\n",
       "         28, 28, 28, 28, 28, 28, 28, 29, 29, 29, 29, 29, 29, 29, 29, 29, 29, 29,\n",
       "         29, 29, 29, 29, 29, 29, 29, 29, 29, 29, 29, 29, 29, 29, 29, 29, 30, 30,\n",
       "         30, 30, 30, 30, 30, 30, 30, 30, 30, 30, 30, 30, 30, 30, 30, 30, 30, 30,\n",
       "         30, 30, 30, 30, 30, 30, 30, 30, 30, 30, 30, 30, 30, 30, 30, 31, 31, 31,\n",
       "         31, 31, 31, 31, 31, 31, 31, 31, 31, 31, 31, 31, 31, 31, 31, 31, 31, 31,\n",
       "         31, 31, 31, 31, 31, 31, 31, 31, 31, 31, 31, 31, 31, 31]),\n",
       " 'meta': tensor([ 0,  1,  2,  3,  4,  5,  6,  7,  8,  9, 10, 11, 12, 13, 14, 15, 16, 17,\n",
       "         18, 19, 20, 21, 22, 23, 24, 25, 26, 27, 28, 29, 30, 31])}"
      ]
     },
     "execution_count": 40,
     "metadata": {},
     "output_type": "execute_result"
    }
   ],
   "source": [
    "batch.batch_dict"
   ]
  },
  {
   "cell_type": "code",
   "execution_count": 41,
   "id": "e3f61b2c",
   "metadata": {
    "scrolled": false
   },
   "outputs": [
    {
     "data": {
      "text/plain": [
       "{('variable',\n",
       "  'has_domain',\n",
       "  'value'): tensor([[ 0,  0,  1,  1,  2,  2,  3,  3,  4,  4,  5,  5,  6,  6,  7,  7,  8,  8,\n",
       "           9,  9, 10, 10, 11, 11, 12, 12, 13, 13, 14, 14, 15, 15, 16, 16, 17, 17,\n",
       "          18, 18, 19, 19, 20, 20, 21, 21, 22, 22, 23, 23, 24, 24, 25, 25, 26, 26,\n",
       "          27, 27, 28, 28, 29, 29, 30, 30, 31, 31, 32, 32, 33, 33, 34, 34, 35, 35,\n",
       "          36, 36, 37, 37, 38, 38, 39, 39, 40, 40, 41, 41, 42, 42, 43, 43, 44, 44,\n",
       "          45, 45, 46, 46, 47, 47, 48, 48, 49, 49, 50, 50, 51, 51, 52, 52, 53, 53,\n",
       "          54, 54, 55, 55, 56, 56, 57, 57, 58, 58, 59, 59, 60, 60, 61, 61, 62, 62,\n",
       "          63, 63, 64, 64, 65, 65, 66, 66, 67, 67, 68, 68, 69, 69, 70, 70, 71, 71,\n",
       "          72, 72, 73, 73, 74, 74, 75, 75, 76, 76, 77, 77, 78, 78, 79, 79, 80, 80,\n",
       "          81, 81, 82, 82, 83, 83, 84, 84, 85, 85, 86, 86, 87, 87, 88, 88, 89, 89,\n",
       "          90, 90, 91, 91, 92, 92, 93, 93, 94, 94, 95, 95],\n",
       "         [ 0,  1,  0,  1,  0,  1,  2,  3,  2,  3,  2,  3,  4,  5,  4,  5,  4,  5,\n",
       "           6,  7,  6,  7,  6,  7,  8,  9,  8,  9,  8,  9, 10, 11, 10, 11, 10, 11,\n",
       "          12, 13, 12, 13, 12, 13, 14, 15, 14, 15, 14, 15, 16, 17, 16, 17, 16, 17,\n",
       "          18, 19, 18, 19, 18, 19, 20, 21, 20, 21, 20, 21, 22, 23, 22, 23, 22, 23,\n",
       "          24, 25, 24, 25, 24, 25, 26, 27, 26, 27, 26, 27, 28, 29, 28, 29, 28, 29,\n",
       "          30, 31, 30, 31, 30, 31, 32, 33, 32, 33, 32, 33, 34, 35, 34, 35, 34, 35,\n",
       "          36, 37, 36, 37, 36, 37, 38, 39, 38, 39, 38, 39, 40, 41, 40, 41, 40, 41,\n",
       "          42, 43, 42, 43, 42, 43, 44, 45, 44, 45, 44, 45, 46, 47, 46, 47, 46, 47,\n",
       "          48, 49, 48, 49, 48, 49, 50, 51, 50, 51, 50, 51, 52, 53, 52, 53, 52, 53,\n",
       "          54, 55, 54, 55, 54, 55, 56, 57, 56, 57, 56, 57, 58, 59, 58, 59, 58, 59,\n",
       "          60, 61, 60, 61, 60, 61, 62, 63, 62, 63, 62, 63]]),\n",
       " ('variable',\n",
       "  'affected_by',\n",
       "  'operator'): tensor([[ 2,  1,  0,  5,  4,  3,  8,  7,  6, 11, 10,  9, 12, 14, 13, 15, 17, 16,\n",
       "          20, 18, 19, 23, 21, 22, 26, 24, 25, 29, 27, 28, 30, 32, 31, 33, 35, 34,\n",
       "          38, 37, 36, 41, 40, 39, 44, 43, 42, 47, 46, 45, 49, 48, 50, 52, 51, 53,\n",
       "          55, 54, 56, 58, 57, 59, 61, 62, 60, 64, 65, 63, 68, 66, 67, 71, 69, 70,\n",
       "          74, 72, 73, 77, 75, 76, 78, 80, 79, 81, 83, 82, 85, 86, 84, 88, 89, 87,\n",
       "          91, 90, 92, 94, 93, 95],\n",
       "         [ 2,  1,  0,  5,  4,  3,  8,  7,  6, 11, 10,  9, 12, 14, 13, 15, 17, 16,\n",
       "          20, 18, 19, 23, 21, 22, 26, 24, 25, 29, 27, 28, 30, 32, 31, 33, 35, 34,\n",
       "          38, 37, 36, 41, 40, 39, 44, 43, 42, 47, 46, 45, 49, 48, 50, 52, 51, 53,\n",
       "          55, 54, 56, 58, 57, 59, 61, 62, 60, 64, 65, 63, 68, 66, 67, 71, 69, 70,\n",
       "          74, 72, 73, 77, 75, 76, 78, 80, 79, 81, 83, 82, 85, 86, 84, 88, 89, 87,\n",
       "          91, 90, 92, 94, 93, 95]]),\n",
       " ('variable',\n",
       "  'appears_in',\n",
       "  'constraint'): tensor([[  0,   0,   1,  ...,  95,  93,  94],\n",
       "         [  0,   1,   1,  ..., 677, 679, 679]]),\n",
       " ('operator',\n",
       "  'connects_variable_to',\n",
       "  'constraint'): tensor([[  2,   1,   2,  ...,  94,  93,  95],\n",
       "         [  0,   0,   2,  ..., 678, 678, 679]]),\n",
       " ('meta',\n",
       "  'has_constraint',\n",
       "  'constraint'): tensor([[  0,   0,   0,  ...,  31,  31,  31],\n",
       "         [  0,   1,   2,  ..., 677, 678, 679]]),\n",
       " ('meta',\n",
       "  'has_variable',\n",
       "  'variable'): tensor([[ 0,  0,  0,  1,  1,  1,  2,  2,  2,  3,  3,  3,  4,  4,  4,  5,  5,  5,\n",
       "           6,  6,  6,  7,  7,  7,  8,  8,  8,  9,  9,  9, 10, 10, 10, 11, 11, 11,\n",
       "          12, 12, 12, 13, 13, 13, 14, 14, 14, 15, 15, 15, 16, 16, 16, 17, 17, 17,\n",
       "          18, 18, 18, 19, 19, 19, 20, 20, 20, 21, 21, 21, 22, 22, 22, 23, 23, 23,\n",
       "          24, 24, 24, 25, 25, 25, 26, 26, 26, 27, 27, 27, 28, 28, 28, 29, 29, 29,\n",
       "          30, 30, 30, 31, 31, 31],\n",
       "         [ 0,  1,  2,  3,  4,  5,  6,  7,  8,  9, 10, 11, 12, 13, 14, 15, 16, 17,\n",
       "          18, 19, 20, 21, 22, 23, 24, 25, 26, 27, 28, 29, 30, 31, 32, 33, 34, 35,\n",
       "          36, 37, 38, 39, 40, 41, 42, 43, 44, 45, 46, 47, 48, 49, 50, 51, 52, 53,\n",
       "          54, 55, 56, 57, 58, 59, 60, 61, 62, 63, 64, 65, 66, 67, 68, 69, 70, 71,\n",
       "          72, 73, 74, 75, 76, 77, 78, 79, 80, 81, 82, 83, 84, 85, 86, 87, 88, 89,\n",
       "          90, 91, 92, 93, 94, 95]]),\n",
       " ('meta',\n",
       "  'has_value',\n",
       "  'value'): tensor([[ 0,  0,  1,  1,  2,  2,  3,  3,  4,  4,  5,  5,  6,  6,  7,  7,  8,  8,\n",
       "           9,  9, 10, 10, 11, 11, 12, 12, 13, 13, 14, 14, 15, 15, 16, 16, 17, 17,\n",
       "          18, 18, 19, 19, 20, 20, 21, 21, 22, 22, 23, 23, 24, 24, 25, 25, 26, 26,\n",
       "          27, 27, 28, 28, 29, 29, 30, 30, 31, 31],\n",
       "         [ 0,  1,  2,  3,  4,  5,  6,  7,  8,  9, 10, 11, 12, 13, 14, 15, 16, 17,\n",
       "          18, 19, 20, 21, 22, 23, 24, 25, 26, 27, 28, 29, 30, 31, 32, 33, 34, 35,\n",
       "          36, 37, 38, 39, 40, 41, 42, 43, 44, 45, 46, 47, 48, 49, 50, 51, 52, 53,\n",
       "          54, 55, 56, 57, 58, 59, 60, 61, 62, 63]]),\n",
       " ('meta',\n",
       "  'has_operator',\n",
       "  'operator'): tensor([[ 0,  0,  0,  1,  1,  1,  2,  2,  2,  3,  3,  3,  4,  4,  4,  5,  5,  5,\n",
       "           6,  6,  6,  7,  7,  7,  8,  8,  8,  9,  9,  9, 10, 10, 10, 11, 11, 11,\n",
       "          12, 12, 12, 13, 13, 13, 14, 14, 14, 15, 15, 15, 16, 16, 16, 17, 17, 17,\n",
       "          18, 18, 18, 19, 19, 19, 20, 20, 20, 21, 21, 21, 22, 22, 22, 23, 23, 23,\n",
       "          24, 24, 24, 25, 25, 25, 26, 26, 26, 27, 27, 27, 28, 28, 28, 29, 29, 29,\n",
       "          30, 30, 30, 31, 31, 31],\n",
       "         [ 0,  1,  2,  3,  4,  5,  6,  7,  8,  9, 10, 11, 12, 13, 14, 15, 16, 17,\n",
       "          18, 19, 20, 21, 22, 23, 24, 25, 26, 27, 28, 29, 30, 31, 32, 33, 34, 35,\n",
       "          36, 37, 38, 39, 40, 41, 42, 43, 44, 45, 46, 47, 48, 49, 50, 51, 52, 53,\n",
       "          54, 55, 56, 57, 58, 59, 60, 61, 62, 63, 64, 65, 66, 67, 68, 69, 70, 71,\n",
       "          72, 73, 74, 75, 76, 77, 78, 79, 80, 81, 82, 83, 84, 85, 86, 87, 88, 89,\n",
       "          90, 91, 92, 93, 94, 95]]),\n",
       " ('value',\n",
       "  'rev_has_domain',\n",
       "  'variable'): tensor([[ 0,  1,  0,  1,  0,  1,  2,  3,  2,  3,  2,  3,  4,  5,  4,  5,  4,  5,\n",
       "           6,  7,  6,  7,  6,  7,  8,  9,  8,  9,  8,  9, 10, 11, 10, 11, 10, 11,\n",
       "          12, 13, 12, 13, 12, 13, 14, 15, 14, 15, 14, 15, 16, 17, 16, 17, 16, 17,\n",
       "          18, 19, 18, 19, 18, 19, 20, 21, 20, 21, 20, 21, 22, 23, 22, 23, 22, 23,\n",
       "          24, 25, 24, 25, 24, 25, 26, 27, 26, 27, 26, 27, 28, 29, 28, 29, 28, 29,\n",
       "          30, 31, 30, 31, 30, 31, 32, 33, 32, 33, 32, 33, 34, 35, 34, 35, 34, 35,\n",
       "          36, 37, 36, 37, 36, 37, 38, 39, 38, 39, 38, 39, 40, 41, 40, 41, 40, 41,\n",
       "          42, 43, 42, 43, 42, 43, 44, 45, 44, 45, 44, 45, 46, 47, 46, 47, 46, 47,\n",
       "          48, 49, 48, 49, 48, 49, 50, 51, 50, 51, 50, 51, 52, 53, 52, 53, 52, 53,\n",
       "          54, 55, 54, 55, 54, 55, 56, 57, 56, 57, 56, 57, 58, 59, 58, 59, 58, 59,\n",
       "          60, 61, 60, 61, 60, 61, 62, 63, 62, 63, 62, 63],\n",
       "         [ 0,  0,  1,  1,  2,  2,  3,  3,  4,  4,  5,  5,  6,  6,  7,  7,  8,  8,\n",
       "           9,  9, 10, 10, 11, 11, 12, 12, 13, 13, 14, 14, 15, 15, 16, 16, 17, 17,\n",
       "          18, 18, 19, 19, 20, 20, 21, 21, 22, 22, 23, 23, 24, 24, 25, 25, 26, 26,\n",
       "          27, 27, 28, 28, 29, 29, 30, 30, 31, 31, 32, 32, 33, 33, 34, 34, 35, 35,\n",
       "          36, 36, 37, 37, 38, 38, 39, 39, 40, 40, 41, 41, 42, 42, 43, 43, 44, 44,\n",
       "          45, 45, 46, 46, 47, 47, 48, 48, 49, 49, 50, 50, 51, 51, 52, 52, 53, 53,\n",
       "          54, 54, 55, 55, 56, 56, 57, 57, 58, 58, 59, 59, 60, 60, 61, 61, 62, 62,\n",
       "          63, 63, 64, 64, 65, 65, 66, 66, 67, 67, 68, 68, 69, 69, 70, 70, 71, 71,\n",
       "          72, 72, 73, 73, 74, 74, 75, 75, 76, 76, 77, 77, 78, 78, 79, 79, 80, 80,\n",
       "          81, 81, 82, 82, 83, 83, 84, 84, 85, 85, 86, 86, 87, 87, 88, 88, 89, 89,\n",
       "          90, 90, 91, 91, 92, 92, 93, 93, 94, 94, 95, 95]]),\n",
       " ('operator',\n",
       "  'rev_affected_by',\n",
       "  'variable'): tensor([[ 2,  1,  0,  5,  4,  3,  8,  7,  6, 11, 10,  9, 12, 14, 13, 15, 17, 16,\n",
       "          20, 18, 19, 23, 21, 22, 26, 24, 25, 29, 27, 28, 30, 32, 31, 33, 35, 34,\n",
       "          38, 37, 36, 41, 40, 39, 44, 43, 42, 47, 46, 45, 49, 48, 50, 52, 51, 53,\n",
       "          55, 54, 56, 58, 57, 59, 61, 62, 60, 64, 65, 63, 68, 66, 67, 71, 69, 70,\n",
       "          74, 72, 73, 77, 75, 76, 78, 80, 79, 81, 83, 82, 85, 86, 84, 88, 89, 87,\n",
       "          91, 90, 92, 94, 93, 95],\n",
       "         [ 2,  1,  0,  5,  4,  3,  8,  7,  6, 11, 10,  9, 12, 14, 13, 15, 17, 16,\n",
       "          20, 18, 19, 23, 21, 22, 26, 24, 25, 29, 27, 28, 30, 32, 31, 33, 35, 34,\n",
       "          38, 37, 36, 41, 40, 39, 44, 43, 42, 47, 46, 45, 49, 48, 50, 52, 51, 53,\n",
       "          55, 54, 56, 58, 57, 59, 61, 62, 60, 64, 65, 63, 68, 66, 67, 71, 69, 70,\n",
       "          74, 72, 73, 77, 75, 76, 78, 80, 79, 81, 83, 82, 85, 86, 84, 88, 89, 87,\n",
       "          91, 90, 92, 94, 93, 95]]),\n",
       " ('constraint',\n",
       "  'rev_appears_in',\n",
       "  'variable'): tensor([[  0,   1,   1,  ..., 677, 679, 679],\n",
       "         [  0,   0,   1,  ...,  95,  93,  94]]),\n",
       " ('constraint',\n",
       "  'rev_connects_variable_to',\n",
       "  'operator'): tensor([[  0,   0,   2,  ..., 678, 678, 679],\n",
       "         [  2,   1,   2,  ...,  94,  93,  95]]),\n",
       " ('constraint',\n",
       "  'rev_has_constraint',\n",
       "  'meta'): tensor([[  0,   1,   2,  ..., 677, 678, 679],\n",
       "         [  0,   0,   0,  ...,  31,  31,  31]]),\n",
       " ('variable',\n",
       "  'rev_has_variable',\n",
       "  'meta'): tensor([[ 0,  1,  2,  3,  4,  5,  6,  7,  8,  9, 10, 11, 12, 13, 14, 15, 16, 17,\n",
       "          18, 19, 20, 21, 22, 23, 24, 25, 26, 27, 28, 29, 30, 31, 32, 33, 34, 35,\n",
       "          36, 37, 38, 39, 40, 41, 42, 43, 44, 45, 46, 47, 48, 49, 50, 51, 52, 53,\n",
       "          54, 55, 56, 57, 58, 59, 60, 61, 62, 63, 64, 65, 66, 67, 68, 69, 70, 71,\n",
       "          72, 73, 74, 75, 76, 77, 78, 79, 80, 81, 82, 83, 84, 85, 86, 87, 88, 89,\n",
       "          90, 91, 92, 93, 94, 95],\n",
       "         [ 0,  0,  0,  1,  1,  1,  2,  2,  2,  3,  3,  3,  4,  4,  4,  5,  5,  5,\n",
       "           6,  6,  6,  7,  7,  7,  8,  8,  8,  9,  9,  9, 10, 10, 10, 11, 11, 11,\n",
       "          12, 12, 12, 13, 13, 13, 14, 14, 14, 15, 15, 15, 16, 16, 16, 17, 17, 17,\n",
       "          18, 18, 18, 19, 19, 19, 20, 20, 20, 21, 21, 21, 22, 22, 22, 23, 23, 23,\n",
       "          24, 24, 24, 25, 25, 25, 26, 26, 26, 27, 27, 27, 28, 28, 28, 29, 29, 29,\n",
       "          30, 30, 30, 31, 31, 31]]),\n",
       " ('value',\n",
       "  'rev_has_value',\n",
       "  'meta'): tensor([[ 0,  1,  2,  3,  4,  5,  6,  7,  8,  9, 10, 11, 12, 13, 14, 15, 16, 17,\n",
       "          18, 19, 20, 21, 22, 23, 24, 25, 26, 27, 28, 29, 30, 31, 32, 33, 34, 35,\n",
       "          36, 37, 38, 39, 40, 41, 42, 43, 44, 45, 46, 47, 48, 49, 50, 51, 52, 53,\n",
       "          54, 55, 56, 57, 58, 59, 60, 61, 62, 63],\n",
       "         [ 0,  0,  1,  1,  2,  2,  3,  3,  4,  4,  5,  5,  6,  6,  7,  7,  8,  8,\n",
       "           9,  9, 10, 10, 11, 11, 12, 12, 13, 13, 14, 14, 15, 15, 16, 16, 17, 17,\n",
       "          18, 18, 19, 19, 20, 20, 21, 21, 22, 22, 23, 23, 24, 24, 25, 25, 26, 26,\n",
       "          27, 27, 28, 28, 29, 29, 30, 30, 31, 31]]),\n",
       " ('operator',\n",
       "  'rev_has_operator',\n",
       "  'meta'): tensor([[ 0,  1,  2,  3,  4,  5,  6,  7,  8,  9, 10, 11, 12, 13, 14, 15, 16, 17,\n",
       "          18, 19, 20, 21, 22, 23, 24, 25, 26, 27, 28, 29, 30, 31, 32, 33, 34, 35,\n",
       "          36, 37, 38, 39, 40, 41, 42, 43, 44, 45, 46, 47, 48, 49, 50, 51, 52, 53,\n",
       "          54, 55, 56, 57, 58, 59, 60, 61, 62, 63, 64, 65, 66, 67, 68, 69, 70, 71,\n",
       "          72, 73, 74, 75, 76, 77, 78, 79, 80, 81, 82, 83, 84, 85, 86, 87, 88, 89,\n",
       "          90, 91, 92, 93, 94, 95],\n",
       "         [ 0,  0,  0,  1,  1,  1,  2,  2,  2,  3,  3,  3,  4,  4,  4,  5,  5,  5,\n",
       "           6,  6,  6,  7,  7,  7,  8,  8,  8,  9,  9,  9, 10, 10, 10, 11, 11, 11,\n",
       "          12, 12, 12, 13, 13, 13, 14, 14, 14, 15, 15, 15, 16, 16, 16, 17, 17, 17,\n",
       "          18, 18, 18, 19, 19, 19, 20, 20, 20, 21, 21, 21, 22, 22, 22, 23, 23, 23,\n",
       "          24, 24, 24, 25, 25, 25, 26, 26, 26, 27, 27, 27, 28, 28, 28, 29, 29, 29,\n",
       "          30, 30, 30, 31, 31, 31]])}"
      ]
     },
     "execution_count": 41,
     "metadata": {},
     "output_type": "execute_result"
    }
   ],
   "source": [
    "batch.edge_index_dict"
   ]
  },
  {
   "cell_type": "code",
   "execution_count": 42,
   "id": "96ddd32b",
   "metadata": {},
   "outputs": [
    {
     "data": {
      "text/plain": [
       "<function torch._VariableFunctionsClass.sparse_coo_tensor>"
      ]
     },
     "execution_count": 42,
     "metadata": {},
     "output_type": "execute_result"
    }
   ],
   "source": [
    "torch.sparse_coo_tensor"
   ]
  },
  {
   "cell_type": "code",
   "execution_count": 43,
   "id": "3c36c7e2",
   "metadata": {},
   "outputs": [
    {
     "data": {
      "text/plain": [
       "HeteroDataBatch(\n",
       "  \u001b[1mvariable\u001b[0m={\n",
       "    x=[96, 1],\n",
       "    y=[32],\n",
       "    batch=[96],\n",
       "    ptr=[33]\n",
       "  },\n",
       "  \u001b[1mvalue\u001b[0m={\n",
       "    x=[64, 1],\n",
       "    batch=[64],\n",
       "    ptr=[33]\n",
       "  },\n",
       "  \u001b[1moperator\u001b[0m={\n",
       "    x=[96, 1],\n",
       "    batch=[96],\n",
       "    ptr=[33]\n",
       "  },\n",
       "  \u001b[1mconstraint\u001b[0m={\n",
       "    x=[680, 2],\n",
       "    batch=[680],\n",
       "    ptr=[33]\n",
       "  },\n",
       "  \u001b[1mmeta\u001b[0m={\n",
       "    x=[32, 2],\n",
       "    batch=[32],\n",
       "    ptr=[33]\n",
       "  },\n",
       "  \u001b[1m(variable, has_domain, value)\u001b[0m={ edge_index=[2, 192] },\n",
       "  \u001b[1m(variable, affected_by, operator)\u001b[0m={ edge_index=[2, 96] },\n",
       "  \u001b[1m(variable, appears_in, constraint)\u001b[0m={ edge_index=[2, 952] },\n",
       "  \u001b[1m(operator, connects_variable_to, constraint)\u001b[0m={ edge_index=[2, 996] },\n",
       "  \u001b[1m(meta, has_constraint, constraint)\u001b[0m={ edge_index=[2, 680] },\n",
       "  \u001b[1m(meta, has_variable, variable)\u001b[0m={ edge_index=[2, 96] },\n",
       "  \u001b[1m(meta, has_value, value)\u001b[0m={ edge_index=[2, 64] },\n",
       "  \u001b[1m(meta, has_operator, operator)\u001b[0m={ edge_index=[2, 96] },\n",
       "  \u001b[1m(value, rev_has_domain, variable)\u001b[0m={ edge_index=[2, 192] },\n",
       "  \u001b[1m(operator, rev_affected_by, variable)\u001b[0m={ edge_index=[2, 96] },\n",
       "  \u001b[1m(constraint, rev_appears_in, variable)\u001b[0m={ edge_index=[2, 952] },\n",
       "  \u001b[1m(constraint, rev_connects_variable_to, operator)\u001b[0m={ edge_index=[2, 996] },\n",
       "  \u001b[1m(constraint, rev_has_constraint, meta)\u001b[0m={ edge_index=[2, 680] },\n",
       "  \u001b[1m(variable, rev_has_variable, meta)\u001b[0m={ edge_index=[2, 96] },\n",
       "  \u001b[1m(value, rev_has_value, meta)\u001b[0m={ edge_index=[2, 64] },\n",
       "  \u001b[1m(operator, rev_has_operator, meta)\u001b[0m={ edge_index=[2, 96] }\n",
       ")"
      ]
     },
     "execution_count": 43,
     "metadata": {},
     "output_type": "execute_result"
    }
   ],
   "source": [
    " batch"
   ]
  },
  {
   "cell_type": "code",
   "execution_count": 44,
   "id": "693dfea1",
   "metadata": {},
   "outputs": [],
   "source": [
    "batch.x_dict\n",
    "\n",
    "def get_num_variables_per_problem(data_batch):\n",
    "    pass"
   ]
  },
  {
   "cell_type": "code",
   "execution_count": 47,
   "id": "08289670",
   "metadata": {},
   "outputs": [
    {
     "data": {
      "text/plain": [
       "96"
      ]
     },
     "execution_count": 47,
     "metadata": {},
     "output_type": "execute_result"
    }
   ],
   "source": [
    "len(batch.x_dict[\"variable\"])"
   ]
  },
  {
   "cell_type": "code",
   "execution_count": 48,
   "id": "3a6a6705",
   "metadata": {},
   "outputs": [
    {
     "data": {
      "text/plain": [
       "{'variable': tensor([ 0,  0,  0,  1,  1,  1,  2,  2,  2,  3,  3,  3,  4,  4,  4,  5,  5,  5,\n",
       "          6,  6,  6,  7,  7,  7,  8,  8,  8,  9,  9,  9, 10, 10, 10, 11, 11, 11,\n",
       "         12, 12, 12, 13, 13, 13, 14, 14, 14, 15, 15, 15, 16, 16, 16, 17, 17, 17,\n",
       "         18, 18, 18, 19, 19, 19, 20, 20, 20, 21, 21, 21, 22, 22, 22, 23, 23, 23,\n",
       "         24, 24, 24, 25, 25, 25, 26, 26, 26, 27, 27, 27, 28, 28, 28, 29, 29, 29,\n",
       "         30, 30, 30, 31, 31, 31]),\n",
       " 'value': tensor([ 0,  0,  1,  1,  2,  2,  3,  3,  4,  4,  5,  5,  6,  6,  7,  7,  8,  8,\n",
       "          9,  9, 10, 10, 11, 11, 12, 12, 13, 13, 14, 14, 15, 15, 16, 16, 17, 17,\n",
       "         18, 18, 19, 19, 20, 20, 21, 21, 22, 22, 23, 23, 24, 24, 25, 25, 26, 26,\n",
       "         27, 27, 28, 28, 29, 29, 30, 30, 31, 31]),\n",
       " 'operator': tensor([ 0,  0,  0,  1,  1,  1,  2,  2,  2,  3,  3,  3,  4,  4,  4,  5,  5,  5,\n",
       "          6,  6,  6,  7,  7,  7,  8,  8,  8,  9,  9,  9, 10, 10, 10, 11, 11, 11,\n",
       "         12, 12, 12, 13, 13, 13, 14, 14, 14, 15, 15, 15, 16, 16, 16, 17, 17, 17,\n",
       "         18, 18, 18, 19, 19, 19, 20, 20, 20, 21, 21, 21, 22, 22, 22, 23, 23, 23,\n",
       "         24, 24, 24, 25, 25, 25, 26, 26, 26, 27, 27, 27, 28, 28, 28, 29, 29, 29,\n",
       "         30, 30, 30, 31, 31, 31]),\n",
       " 'constraint': tensor([ 0,  0,  0,  0,  0,  0,  0,  0,  0,  0,  0,  0,  0,  0,  0,  0,  0,  0,\n",
       "          0,  1,  1,  1,  1,  1,  1,  1,  1,  1,  1,  1,  1,  1,  1,  1,  1,  1,\n",
       "          1,  1,  2,  2,  2,  2,  2,  2,  2,  2,  2,  2,  2,  2,  2,  3,  3,  3,\n",
       "          3,  3,  3,  3,  3,  3,  3,  3,  3,  3,  4,  4,  4,  4,  4,  4,  4,  4,\n",
       "          4,  4,  4,  4,  4,  4,  4,  4,  4,  4,  4,  4,  4,  4,  4,  4,  4,  4,\n",
       "          4,  4,  4,  4,  4,  4,  4,  4,  4,  4,  4,  4,  4,  4,  4,  4,  4,  4,\n",
       "          4,  4,  5,  5,  5,  5,  5,  5,  5,  5,  5,  5,  5,  5,  5,  5,  5,  5,\n",
       "          5,  5,  5,  5,  5,  5,  5,  5,  5,  5,  5,  5,  5,  5,  5,  5,  5,  5,\n",
       "          5,  5,  5,  5,  5,  5,  5,  5,  5,  5,  5,  5,  6,  6,  6,  6,  6,  6,\n",
       "          6,  6,  6,  6,  6,  7,  7,  7,  7,  7,  7,  7,  7,  7,  7,  7,  8,  8,\n",
       "          8,  8,  8,  8,  8,  8,  8,  8,  8,  8,  8,  8,  8,  8,  8,  8,  8,  8,\n",
       "          8,  8,  9,  9,  9,  9,  9,  9,  9,  9,  9,  9,  9,  9,  9,  9,  9,  9,\n",
       "          9,  9,  9,  9,  9,  9, 10, 10, 10, 10, 10, 10, 10, 10, 10, 10, 10, 10,\n",
       "         10, 10, 10, 10, 10, 10, 10, 10, 10, 10, 10, 10, 11, 11, 11, 11, 11, 11,\n",
       "         11, 11, 11, 11, 11, 11, 11, 11, 11, 11, 11, 11, 11, 11, 11, 11, 11, 11,\n",
       "         12, 12, 12, 12, 12, 12, 12, 12, 12, 12, 12, 12, 12, 12, 12, 12, 12, 12,\n",
       "         12, 12, 12, 13, 13, 13, 13, 13, 13, 13, 13, 13, 13, 13, 13, 13, 13, 13,\n",
       "         13, 13, 13, 13, 13, 13, 14, 14, 14, 14, 14, 14, 14, 14, 14, 14, 14, 14,\n",
       "         14, 14, 15, 15, 15, 15, 15, 15, 15, 15, 15, 15, 15, 15, 15, 15, 16, 16,\n",
       "         16, 16, 16, 16, 16, 16, 16, 16, 16, 16, 16, 16, 16, 16, 16, 16, 16, 16,\n",
       "         16, 16, 16, 16, 16, 16, 16, 16, 16, 16, 17, 17, 17, 17, 17, 17, 17, 17,\n",
       "         17, 17, 17, 17, 17, 17, 17, 17, 17, 17, 17, 17, 17, 17, 17, 17, 17, 17,\n",
       "         17, 17, 17, 17, 18, 18, 18, 18, 18, 18, 18, 18, 18, 18, 18, 18, 18, 18,\n",
       "         18, 19, 19, 19, 19, 19, 19, 19, 19, 19, 19, 19, 19, 19, 19, 19, 20, 20,\n",
       "         20, 20, 20, 20, 20, 20, 20, 20, 20, 20, 20, 20, 20, 20, 20, 20, 20, 20,\n",
       "         20, 20, 21, 21, 21, 21, 21, 21, 21, 21, 21, 21, 21, 21, 21, 21, 21, 21,\n",
       "         21, 21, 21, 21, 21, 21, 22, 22, 22, 22, 22, 22, 22, 22, 22, 22, 22, 22,\n",
       "         22, 22, 22, 22, 22, 22, 22, 22, 23, 23, 23, 23, 23, 23, 23, 23, 23, 23,\n",
       "         23, 23, 23, 23, 23, 23, 23, 23, 23, 23, 24, 24, 24, 24, 24, 24, 24, 24,\n",
       "         24, 24, 24, 24, 25, 25, 25, 25, 25, 25, 25, 25, 25, 25, 25, 25, 26, 26,\n",
       "         26, 26, 26, 26, 26, 26, 26, 27, 27, 27, 27, 27, 27, 27, 27, 27, 28, 28,\n",
       "         28, 28, 28, 28, 28, 28, 28, 28, 28, 28, 28, 28, 28, 28, 28, 28, 28, 28,\n",
       "         28, 28, 28, 28, 28, 28, 28, 29, 29, 29, 29, 29, 29, 29, 29, 29, 29, 29,\n",
       "         29, 29, 29, 29, 29, 29, 29, 29, 29, 29, 29, 29, 29, 29, 29, 29, 30, 30,\n",
       "         30, 30, 30, 30, 30, 30, 30, 30, 30, 30, 30, 30, 30, 30, 30, 30, 30, 30,\n",
       "         30, 30, 30, 30, 30, 30, 30, 30, 30, 30, 30, 30, 30, 30, 30, 31, 31, 31,\n",
       "         31, 31, 31, 31, 31, 31, 31, 31, 31, 31, 31, 31, 31, 31, 31, 31, 31, 31,\n",
       "         31, 31, 31, 31, 31, 31, 31, 31, 31, 31, 31, 31, 31, 31]),\n",
       " 'meta': tensor([ 0,  1,  2,  3,  4,  5,  6,  7,  8,  9, 10, 11, 12, 13, 14, 15, 16, 17,\n",
       "         18, 19, 20, 21, 22, 23, 24, 25, 26, 27, 28, 29, 30, 31])}"
      ]
     },
     "execution_count": 48,
     "metadata": {},
     "output_type": "execute_result"
    }
   ],
   "source": [
    "batch.batch_dict"
   ]
  },
  {
   "cell_type": "code",
   "execution_count": 65,
   "id": "4263fd84",
   "metadata": {},
   "outputs": [],
   "source": [
    "from collections import Counter\n",
    "counts = {\n",
    "    \"variable\": None,\n",
    "    \"value\": None,\n",
    "    \"operator\": None,\n",
    "    \"constraint\": None\n",
    "}\n",
    "\n",
    "for k in counts.keys():\n",
    "    counts[k] = Counter(batch.batch_dict[k].numpy())"
   ]
  },
  {
   "cell_type": "code",
   "execution_count": 67,
   "id": "9b14a793",
   "metadata": {
    "scrolled": false
   },
   "outputs": [
    {
     "data": {
      "text/plain": [
       "3"
      ]
     },
     "execution_count": 67,
     "metadata": {},
     "output_type": "execute_result"
    }
   ],
   "source": [
    "counts[\"variable\"][1]"
   ]
  },
  {
   "cell_type": "code",
   "execution_count": 68,
   "id": "7ab8ff80",
   "metadata": {},
   "outputs": [],
   "source": [
    "mlp = MLP([4,4,4])"
   ]
  },
  {
   "cell_type": "code",
   "execution_count": 72,
   "id": "32e1dc53",
   "metadata": {},
   "outputs": [
    {
     "data": {
      "text/plain": [
       "MLP(4, 4, 4)"
      ]
     },
     "execution_count": 72,
     "metadata": {},
     "output_type": "execute_result"
    }
   ],
   "source": [
    "mlp"
   ]
  },
  {
   "cell_type": "code",
   "execution_count": 73,
   "id": "06d83cd2",
   "metadata": {},
   "outputs": [],
   "source": [
    "\n"
   ]
  },
  {
   "cell_type": "code",
   "execution_count": 76,
   "id": "2b7ca9fa",
   "metadata": {},
   "outputs": [
    {
     "data": {
      "text/plain": [
       "tensor([[ 0.0085,  0.5124,  0.3079, -0.0164],\n",
       "        [ 0.2307, -0.0821,  0.5696,  0.3730]], grad_fn=<AddmmBackward0>)"
      ]
     },
     "execution_count": 76,
     "metadata": {},
     "output_type": "execute_result"
    }
   ],
   "source": [
    "haha = torch.randn((2,4))\n",
    "mlp(haha)"
   ]
  },
  {
   "cell_type": "code",
   "execution_count": 84,
   "id": "ed76c803",
   "metadata": {},
   "outputs": [
    {
     "ename": "TypeError",
     "evalue": "tile(): argument 'dims' (position 2) must be tuple of ints, not list",
     "output_type": "error",
     "traceback": [
      "\u001b[1;31m---------------------------------------------------------------------------\u001b[0m",
      "\u001b[1;31mTypeError\u001b[0m                                 Traceback (most recent call last)",
      "Input \u001b[1;32mIn [84]\u001b[0m, in \u001b[0;36m<cell line: 2>\u001b[1;34m()\u001b[0m\n\u001b[0;32m      1\u001b[0m \u001b[38;5;66;03m# num_vars = \u001b[39;00m\n\u001b[1;32m----> 2\u001b[0m \u001b[43mtorch\u001b[49m\u001b[38;5;241;43m.\u001b[39;49m\u001b[43mtile\u001b[49m\u001b[43m(\u001b[49m\u001b[43mvariable_init\u001b[49m\u001b[43m,\u001b[49m\u001b[43m \u001b[49m\u001b[43m[\u001b[49m\u001b[38;5;28;43mlist\u001b[39;49m\u001b[43m(\u001b[49m\u001b[43mnum_vars\u001b[49m\u001b[38;5;241;43m.\u001b[39;49m\u001b[43mvalues\u001b[49m\u001b[43m(\u001b[49m\u001b[43m)\u001b[49m\u001b[43m)\u001b[49m\u001b[43m,\u001b[49m\u001b[43m \u001b[49m\u001b[38;5;241;43m1\u001b[39;49m\u001b[43m]\u001b[49m\u001b[43m)\u001b[49m\n",
      "\u001b[1;31mTypeError\u001b[0m: tile(): argument 'dims' (position 2) must be tuple of ints, not list"
     ]
    }
   ],
   "source": [
    "# num_vars = \n",
    "torch.tile(variable_init, [list(num_vars.values()), 1])"
   ]
  },
  {
   "cell_type": "code",
   "execution_count": 81,
   "id": "409f3b25",
   "metadata": {},
   "outputs": [
    {
     "data": {
      "text/plain": [
       "[3,\n",
       " 3,\n",
       " 3,\n",
       " 3,\n",
       " 3,\n",
       " 3,\n",
       " 3,\n",
       " 3,\n",
       " 3,\n",
       " 3,\n",
       " 3,\n",
       " 3,\n",
       " 3,\n",
       " 3,\n",
       " 3,\n",
       " 3,\n",
       " 3,\n",
       " 3,\n",
       " 3,\n",
       " 3,\n",
       " 3,\n",
       " 3,\n",
       " 3,\n",
       " 3,\n",
       " 3,\n",
       " 3,\n",
       " 3,\n",
       " 3,\n",
       " 3,\n",
       " 3,\n",
       " 3,\n",
       " 3]"
      ]
     },
     "execution_count": 81,
     "metadata": {},
     "output_type": "execute_result"
    }
   ],
   "source": [
    "list(num_vars.values())"
   ]
  },
  {
   "cell_type": "code",
   "execution_count": 91,
   "id": "d5e70d36",
   "metadata": {},
   "outputs": [],
   "source": [
    "import pickle\n",
    "# Copyright 2018 Daniel Selsam. All Rights Reserved.\n",
    "#\n",
    "# Licensed under the Apache License, Version 2.0 (the \"License\");\n",
    "# you may not use this file except in compliance with the License.\n",
    "# You may obtain a copy of the License at\n",
    "#\n",
    "#     http://www.apache.org/licenses/LICENSE-2.0\n",
    "#\n",
    "# Unless required by applicable law or agreed to in writing, software\n",
    "# distributed under the License is distributed on an \"AS IS\" BASIS,\n",
    "# WITHOUT WARRANTIES OR CONDITIONS OF ANY KIND, either express or implied.\n",
    "# See the License for the specific language governing permissions and\n",
    "# limitations under the License.\n",
    "# ==============================================================================\n",
    "\n",
    "import numpy as np\n",
    "import math\n",
    "\n",
    "# TODO(dhs): duplication\n",
    "def ilit_to_var_sign(x):\n",
    "    assert(abs(x) > 0)\n",
    "    var = abs(x) - 1\n",
    "    sign = x < 0\n",
    "    return var, sign\n",
    "\n",
    "# TODO(dhs): duplication\n",
    "def ilit_to_vlit(x, n_vars):\n",
    "    assert(x != 0)\n",
    "    var, sign = ilit_to_var_sign(x)\n",
    "    if sign: return var + n_vars\n",
    "    else: return var\n",
    "\n",
    "class Problem(object):\n",
    "    def __init__(self, n_vars, iclauses, is_sat, n_cells_per_batch, all_dimacs):\n",
    "        self.n_vars = n_vars\n",
    "        self.n_lits = 2 * n_vars\n",
    "        self.n_clauses = len(iclauses)\n",
    "\n",
    "        self.n_cells = sum(n_cells_per_batch)\n",
    "        self.n_cells_per_batch = n_cells_per_batch\n",
    "\n",
    "        self.is_sat = is_sat\n",
    "        self.compute_L_unpack(iclauses)\n",
    "\n",
    "        # will be a list of None for training problems\n",
    "        self.dimacs = all_dimacs\n",
    "\n",
    "    def compute_L_unpack(self, iclauses):\n",
    "        self.L_unpack_indices = np.zeros([self.n_cells, 2], dtype=int)\n",
    "        cell = 0\n",
    "        for clause_idx, iclause in enumerate(iclauses):\n",
    "            vlits = [ilit_to_vlit(x, self.n_vars) for x in iclause]\n",
    "            for vlit in vlits:\n",
    "                self.L_unpack_indices[cell, :] = [vlit, clause_idx]\n",
    "                cell += 1\n",
    "\n",
    "        assert(cell == self.n_cells)\n",
    "\n",
    "def shift_ilit(x, offset):\n",
    "    assert(x != 0)\n",
    "    if x > 0: return x + offset\n",
    "    else:     return x - offset\n",
    "\n",
    "def shift_iclauses(iclauses, offset):\n",
    "    return [[shift_ilit(x, offset) for x in iclause] for iclause in iclauses]\n",
    "\n",
    "def mk_batch_problem(problems):\n",
    "    all_iclauses = []\n",
    "    all_is_sat = []\n",
    "    all_n_cells = []\n",
    "    all_dimacs = []\n",
    "    offset = 0\n",
    "\n",
    "    prev_n_vars = None\n",
    "    for dimacs, n_vars, iclauses, is_sat in problems:\n",
    "        assert(prev_n_vars is None or n_vars == prev_n_vars)\n",
    "        prev_n_vars = n_vars\n",
    "\n",
    "        all_iclauses.extend(shift_iclauses(iclauses, offset))\n",
    "        all_is_sat.append(is_sat)\n",
    "        all_n_cells.append(sum([len(iclause) for iclause in iclauses]))\n",
    "        all_dimacs.append(dimacs)\n",
    "        offset += n_vars\n",
    "\n",
    "    return Problem(offset, all_iclauses, all_is_sat, all_n_cells, all_dimacs)\n",
    "\n",
    "filename = r\"C:\\Users\\leobo\\Desktop\\École\\Poly\\Recherche\\Generic-Graph-Representation\\Graph-Representation\\src\\models\\sat\\neurosat\\data\\train\\sr5\\data_dir=grp1_npb=100_nb=1328.pkl\"\n",
    "with open(filename, 'rb') as f:\n",
    "    problems = pickle.load(f)"
   ]
  },
  {
   "cell_type": "code",
   "execution_count": 90,
   "id": "71f86ecc",
   "metadata": {},
   "outputs": [],
   "source": [
    "import os\n",
    "os.chdir(r\"C:\\Users\\leobo\\Desktop\\École\\Poly\\Recherche\\Generic-Graph-Representation\\Graph-Representation\\src\\models\\sat\\neurosat\\python\")"
   ]
  },
  {
   "cell_type": "code",
   "execution_count": 93,
   "id": "6aac4acf",
   "metadata": {},
   "outputs": [],
   "source": [
    "import os\n",
    "import pickle\n",
    "import mk_problem\n",
    "\n",
    "class ProblemsLoader(object):\n",
    "    def __init__(self, filenames):\n",
    "        self.filenames = filenames\n",
    "        print(self.filenames)\n",
    "\n",
    "        self.next_file_num = 0\n",
    "        assert(self.has_next())\n",
    "\n",
    "    def has_next(self):\n",
    "        return self.next_file_num < len(self.filenames)\n",
    "\n",
    "    def get_next(self):\n",
    "        if not self.has_next():\n",
    "            self.reset()\n",
    "        filename = self.filenames[self.next_file_num]\n",
    "        # print(\"Loading %s...\" % filename)\n",
    "        with open(filename, 'rb') as f:\n",
    "            problems = pickle.load(f)\n",
    "        self.next_file_num += 1\n",
    "        assert(len(problems) > 0)\n",
    "        return problems, filename\n",
    "\n",
    "    def reset(self):\n",
    "        self.next_file_num = 0\n",
    "\n",
    "def init_problems_loader(dirname):\n",
    "    return ProblemsLoader([dirname + \"/\" + f for f in os.listdir(dirname)])\n"
   ]
  },
  {
   "cell_type": "code",
   "execution_count": 96,
   "id": "36c85e52",
   "metadata": {},
   "outputs": [
    {
     "name": "stdout",
     "output_type": "stream",
     "text": [
      "['C:\\\\Users\\\\leobo\\\\Desktop\\\\École\\\\Poly\\\\Recherche\\\\Generic-Graph-Representation\\\\Graph-Representation\\\\src\\\\models\\\\sat\\\\neurosat\\\\data\\\\train\\\\sr5/data_dir=grp1_npb=100_nb=1328.pkl', 'C:\\\\Users\\\\leobo\\\\Desktop\\\\École\\\\Poly\\\\Recherche\\\\Generic-Graph-Representation\\\\Graph-Representation\\\\src\\\\models\\\\sat\\\\neurosat\\\\data\\\\train\\\\sr5/data_dir=grp2_npb=100_nb=1366.pkl']\n"
     ]
    }
   ],
   "source": [
    "dirname = r\"C:\\Users\\leobo\\Desktop\\École\\Poly\\Recherche\\Generic-Graph-Representation\\Graph-Representation\\src\\models\\sat\\neurosat\\data\\train\\sr5\"\n",
    "PL = init_problems_loader(dirname)"
   ]
  },
  {
   "cell_type": "code",
   "execution_count": 98,
   "id": "a7b677ab",
   "metadata": {},
   "outputs": [],
   "source": [
    "train_problems, train_filename = PL.get_next()"
   ]
  },
  {
   "cell_type": "code",
   "execution_count": 103,
   "id": "32078121",
   "metadata": {},
   "outputs": [],
   "source": [
    "problem = train_problems[0]\n",
    "d = {}\n",
    "d['n_vars'] = torch.tensor(problem.n_vars,device=\"cuda\")\n",
    "d['n_lits'] = torch.tensor(problem.n_lits,device=\"cuda\")\n",
    "d['n_clauses'] = torch.tensor(problem.n_clauses,device=\"cuda\")\n",
    "d['L_unpack'] = torch.sparse_coo_tensor(indices=torch.tensor(problem.L_unpack_indices.T, dtype=torch.long),\n",
    "                                   values=torch.tensor(np.ones(problem.L_unpack_indices.shape[0]), dtype=torch.float),\n",
    "                                   size=(problem.n_lits, problem.n_clauses))\n",
    "d['is_sat'] = torch.tensor(problem.is_sat,device=\"cuda\")"
   ]
  },
  {
   "cell_type": "code",
   "execution_count": 104,
   "id": "bfb108e0",
   "metadata": {},
   "outputs": [
    {
     "data": {
      "text/plain": [
       "{'n_vars': tensor(12, device='cuda:0'),\n",
       " 'n_lits': tensor(24, device='cuda:0'),\n",
       " 'n_clauses': tensor(76, device='cuda:0'),\n",
       " 'L_unpack': tensor(indices=tensor([[14,  0, 12, 13,  2,  1,  2,  0,  1, 14,  1,  0,  2, 13,\n",
       "                          2, 12,  1,  0, 14, 12, 13,  2, 14,  0, 14, 12, 13, 12,\n",
       "                          2, 12,  2,  1, 14,  0,  1, 12,  2, 13,  1,  2,  0,  0,\n",
       "                          2, 17,  3, 15, 16,  5,  4,  5,  3,  4, 17,  4,  3,  5,\n",
       "                         16,  5, 15,  4,  3, 17, 15, 16,  5, 17,  3, 17, 15, 16,\n",
       "                         15,  5, 15,  5,  4, 17,  3,  4, 15,  5, 16,  4,  5,  3,\n",
       "                         15,  5, 18,  8,  7, 18,  7,  8, 20,  6,  7, 18,  7,  8,\n",
       "                          6,  8, 19,  8,  6, 19, 19,  6,  8,  6, 19, 20, 20, 19,\n",
       "                          7,  8, 18,  6,  7, 20, 19,  6,  8,  6, 19, 20,  8, 18,\n",
       "                          7,  8,  6,  7, 20, 18,  6,  8, 19,  7,  6, 20,  7, 20,\n",
       "                          6, 18,  8,  7,  6,  7, 20,  8, 18, 19, 21, 11, 10, 21,\n",
       "                         10, 11, 23,  9, 10, 21, 10, 11,  9, 11, 22, 11,  9, 22,\n",
       "                         22,  9, 11,  9, 22, 23, 23, 22, 10, 11, 21,  9, 10, 23,\n",
       "                         22,  9, 11,  9, 22, 23, 11, 21, 10, 11,  9, 10, 23, 21,\n",
       "                          9, 11, 22, 10,  9, 23, 10, 23,  9, 21, 11, 10,  9, 10,\n",
       "                         23, 23, 21, 22],\n",
       "                        [ 0,  0,  1,  1,  1,  2,  2,  3,  3,  3,  4,  4,  4,  5,\n",
       "                          5,  5,  6,  6,  6,  7,  7,  7,  8,  8,  9,  9, 10, 10,\n",
       "                         10, 11, 11, 11, 12, 12, 12, 13, 13, 13, 14, 14, 14, 15,\n",
       "                         15, 16, 16, 17, 17, 17, 18, 18, 19, 19, 19, 20, 20, 20,\n",
       "                         21, 21, 21, 22, 22, 22, 23, 23, 23, 24, 24, 25, 25, 26,\n",
       "                         26, 26, 27, 27, 27, 28, 28, 28, 29, 29, 29, 30, 30, 30,\n",
       "                         31, 31, 32, 32, 32, 33, 33, 33, 34, 34, 34, 35, 35, 35,\n",
       "                         36, 36, 36, 37, 37, 37, 38, 38, 38, 39, 39, 39, 40, 40,\n",
       "                         41, 41, 41, 42, 42, 42, 43, 43, 43, 44, 44, 44, 45, 45,\n",
       "                         45, 46, 46, 46, 47, 47, 48, 48, 48, 49, 49, 49, 50, 50,\n",
       "                         50, 51, 51, 51, 52, 52, 52, 53, 53, 53, 54, 54, 54, 55,\n",
       "                         55, 55, 56, 56, 56, 57, 57, 57, 58, 58, 58, 59, 59, 59,\n",
       "                         60, 60, 60, 61, 61, 61, 62, 62, 63, 63, 63, 64, 64, 64,\n",
       "                         65, 65, 65, 66, 66, 66, 67, 67, 67, 68, 68, 68, 69, 69,\n",
       "                         70, 70, 70, 71, 71, 71, 72, 72, 72, 73, 73, 73, 74, 74,\n",
       "                         74, 75, 75, 75]]),\n",
       "        values=tensor([1., 1., 1., 1., 1., 1., 1., 1., 1., 1., 1., 1., 1., 1.,\n",
       "                       1., 1., 1., 1., 1., 1., 1., 1., 1., 1., 1., 1., 1., 1.,\n",
       "                       1., 1., 1., 1., 1., 1., 1., 1., 1., 1., 1., 1., 1., 1.,\n",
       "                       1., 1., 1., 1., 1., 1., 1., 1., 1., 1., 1., 1., 1., 1.,\n",
       "                       1., 1., 1., 1., 1., 1., 1., 1., 1., 1., 1., 1., 1., 1.,\n",
       "                       1., 1., 1., 1., 1., 1., 1., 1., 1., 1., 1., 1., 1., 1.,\n",
       "                       1., 1., 1., 1., 1., 1., 1., 1., 1., 1., 1., 1., 1., 1.,\n",
       "                       1., 1., 1., 1., 1., 1., 1., 1., 1., 1., 1., 1., 1., 1.,\n",
       "                       1., 1., 1., 1., 1., 1., 1., 1., 1., 1., 1., 1., 1., 1.,\n",
       "                       1., 1., 1., 1., 1., 1., 1., 1., 1., 1., 1., 1., 1., 1.,\n",
       "                       1., 1., 1., 1., 1., 1., 1., 1., 1., 1., 1., 1., 1., 1.,\n",
       "                       1., 1., 1., 1., 1., 1., 1., 1., 1., 1., 1., 1., 1., 1.,\n",
       "                       1., 1., 1., 1., 1., 1., 1., 1., 1., 1., 1., 1., 1., 1.,\n",
       "                       1., 1., 1., 1., 1., 1., 1., 1., 1., 1., 1., 1., 1., 1.,\n",
       "                       1., 1., 1., 1., 1., 1., 1., 1., 1., 1., 1., 1., 1., 1.,\n",
       "                       1., 1., 1., 1.]),\n",
       "        size=(24, 76), nnz=214, layout=torch.sparse_coo),\n",
       " 'is_sat': tensor([False,  True, False,  True], device='cuda:0')}"
      ]
     },
     "execution_count": 104,
     "metadata": {},
     "output_type": "execute_result"
    }
   ],
   "source": [
    "\n",
    "d"
   ]
  },
  {
   "cell_type": "code",
   "execution_count": 105,
   "id": "11df10f4",
   "metadata": {},
   "outputs": [
    {
     "data": {
      "text/plain": [
       "'C:\\\\Users\\\\leobo\\\\Desktop\\\\École\\\\Poly\\\\Recherche\\\\Generic-Graph-Representation\\\\Graph-Representation\\\\src\\\\models\\\\sat\\\\neurosat\\\\data\\\\train\\\\sr5/data_dir=grp1_npb=100_nb=1328.pkl'"
      ]
     },
     "execution_count": 105,
     "metadata": {},
     "output_type": "execute_result"
    }
   ],
   "source": [
    "train_filename"
   ]
  },
  {
   "cell_type": "code",
   "execution_count": null,
   "id": "c18d48a9",
   "metadata": {},
   "outputs": [],
   "source": []
  }
 ],
 "metadata": {
  "kernelspec": {
   "display_name": "Python 3 (ipykernel)",
   "language": "python",
   "name": "python3"
  },
  "language_info": {
   "codemirror_mode": {
    "name": "ipython",
    "version": 3
   },
   "file_extension": ".py",
   "mimetype": "text/x-python",
   "name": "python",
   "nbconvert_exporter": "python",
   "pygments_lexer": "ipython3",
   "version": "3.9.12"
  }
 },
 "nbformat": 4,
 "nbformat_minor": 5
}
