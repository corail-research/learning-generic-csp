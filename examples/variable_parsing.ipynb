{
 "cells": [
  {
   "cell_type": "code",
   "execution_count": 32,
   "id": "8196dfe4",
   "metadata": {},
   "outputs": [],
   "source": [
    "import lzma\n",
    "import xml.etree.ElementTree as ET\n",
    "\n",
    "file_path = r\"../sample_problems/sample_problem_test/AircraftLanding-table-airland01_mc22.xml\"\n",
    "# with lzma.open(file_path, \"rb\") as compressed_file:\n",
    "#     xml_bytes = compressed_file.read()\n",
    "with open(file_path, \"rb\") as bytes:\n",
    "    root = ET.fromstring(xml_bytes)"
   ]
  },
  {
   "cell_type": "code",
   "execution_count": 33,
   "id": "e884d7fe",
   "metadata": {},
   "outputs": [],
   "source": [
    "variables = root.findall(\"variables\")\n",
    "constraints = root.findall(\"constraints\")\n",
    "objectives = root.findall(\"objectives\")\n",
    "\n",
    "array_vars = variables[0].findall(\"array\")\n",
    "integer_vars = variables[0].findall(\"var\")"
   ]
  },
  {
   "cell_type": "code",
   "execution_count": 28,
   "id": "82750ae5",
   "metadata": {},
   "outputs": [],
   "source": [
    "import ast\n",
    "import numpy as np\n",
    "from typing import List\n",
    "\n",
    "\n",
    "class Variable:\n",
    "    \"\"\"\n",
    "    Attributes:\n",
    "    - name (str): variable's name\n",
    "    - domain (List[List[int]]): all intervals comprising the variable's domain; ex: [[1,5], [8], [11, 16]] means that the variable's domain is {1, 2, 3, 4, 5, 8, 11, 12, 13, 14, 15, 16}\n",
    "    \"\"\"\n",
    "    def __init__(self, name:str, domain:List[List[int]]):\n",
    "        self.name = name\n",
    "        self.domain = domain\n",
    "    def __repr__(self):\n",
    "        return repr(f\"\"\"Name: {self.name} Domain: {self.domain}\"\"\")\n",
    "\n",
    "\n",
    "def get_array_dimensions(size):\n",
    "    dimension_sizes = ast.literal_eval(\"[\" + size.replace(\"]\", \",\").replace(\"[\", \"\") + \"]\")\n",
    "    return dimension_sizes\n",
    "\n",
    "def parse_variable_domain(raw_domain):\n",
    "    domain = []\n",
    "    sub_domains = [dom_element for dom_element in raw_domain.replace(\"..\", \",\").split(\" \")]\n",
    "    for sub_domain in sub_domains:\n",
    "        if not sub_domain:\n",
    "            continue\n",
    "        if \",\" in sub_domain:\n",
    "            sub_domain = sub_domain.split(\",\")\n",
    "            domain.append([int(sub_domain[0]), int(sub_domain[1])])\n",
    "        else:\n",
    "            domain.append([int(sub_domain)])\n",
    "    return domain\n",
    "\n",
    "def build_variable(variable_name, current_position, domain):\n",
    "    full_variable_name = variable_name[0] + str(current_position)\n",
    "    new_var = Variable(full_variable_name, domain)\n",
    "    \n",
    "    return new_var\n",
    "\n",
    "def parse_variable(var_name, dim_index, dimensions, current_position, domain, variables, sizes, allocated_variables):\n",
    "    if dim_index == len(dimensions):\n",
    "        new_variable = build_variable(var_name, current_position, domain)\n",
    "        variables.append(new_variable)\n",
    "        allocated_variables[tuple(current_position)] = 1\n",
    "        return\n",
    "    current_dim = dimensions[dim_index]\n",
    "    if current_dim:\n",
    "        if \"..\" in current_dim:\n",
    "            dims_range = [int(dim) for dim in current_dim.split(\"..\")]\n",
    "            lower_bound = dims_range[0]\n",
    "            upper_bound = dims_range[1] + 1\n",
    "        else:\n",
    "            lower_bound = int(current_dim)\n",
    "            upper_bound = int(current_dim) + 1\n",
    "        for dim in range(lower_bound, upper_bound):\n",
    "            current_position.append(dim)\n",
    "            parse_variable(var_name, dim_index+1, dimensions, current_position, domain, variables, sizes, allocated_variables)\n",
    "            current_position.pop()\n",
    "    else:\n",
    "        for dim in range(sizes[dim_index]):\n",
    "            current_position.append(dim)\n",
    "            parse_variable(var_name, dim_index+1, dimensions, current_position, domain, variables, sizes, allocated_variables)\n",
    "            current_position.pop()\n",
    "\n",
    "instance_variables = []\n",
    "for array in array_vars:\n",
    "    array_dimensions = get_array_dimensions(array.attrib[\"size\"])\n",
    "    array_domains_parsed = np.zeros(array_dimensions)\n",
    "    for variable in array:\n",
    "        if variable.tag == \"domain\":\n",
    "            domain = parse_variable_domain(variable.text)\n",
    "            var_names = variable.attrib[\"for\"].split()\n",
    "            for new_var_name in var_names:\n",
    "                current_array_dims = new_var_name.replace(\"]\", \"\").split('[')[1:]\n",
    "                parse_variable(new_var_name, 0, current_array_dims, [], domain, instance_variables, array_dimensions, array_domains_parsed)\n"
   ]
  },
  {
   "cell_type": "code",
   "execution_count": 29,
   "id": "4459f45d",
   "metadata": {},
   "outputs": [
    {
     "data": {
      "text/plain": [
       "'Name: x[0] Domain: [[129, 559]]'"
      ]
     },
     "execution_count": 29,
     "metadata": {},
     "output_type": "execute_result"
    }
   ],
   "source": [
    "instance_variables[0]"
   ]
  },
  {
   "cell_type": "code",
   "execution_count": 23,
   "id": "4871f106",
   "metadata": {},
   "outputs": [
    {
     "name": "stdout",
     "output_type": "stream",
     "text": [
      "'Name: x[0] \\n Domain: [[129, 559]]'\n",
      "'Name: x[1] \\n Domain: [[195, 744]]'\n",
      "'Name: x[2] \\n Domain: [[89, 510]]'\n",
      "'Name: x[3] \\n Domain: [[96, 521]]'\n",
      "'Name: x[4] \\n Domain: [[110, 555]]'\n",
      "'Name: x[5] \\n Domain: [[120, 576]]'\n",
      "'Name: x[6] \\n Domain: [[124, 577]]'\n",
      "'Name: x[7] \\n Domain: [[126, 573]]'\n",
      "'Name: x[8] \\n Domain: [[135, 591]]'\n",
      "'Name: x[9] \\n Domain: [[160, 657]]'\n",
      "'Name: e[0] \\n Domain: [[0, 26]]'\n",
      "'Name: e[1] \\n Domain: [[0, 63]]'\n",
      "'Name: e[2] \\n Domain: [[0, 9]]'\n",
      "'Name: e[3] \\n Domain: [[0, 10]]'\n",
      "'Name: e[4] \\n Domain: [[0, 13]]'\n",
      "'Name: e[5] \\n Domain: [[0, 15]]'\n",
      "'Name: e[8] \\n Domain: [[0, 15]]'\n",
      "'Name: e[6] \\n Domain: [[0, 14]]'\n",
      "'Name: e[7] \\n Domain: [[0, 14]]'\n",
      "'Name: e[9] \\n Domain: [[0, 20]]'\n",
      "'Name: t[0] \\n Domain: [[0, 404]]'\n",
      "'Name: t[1] \\n Domain: [[0, 486]]'\n",
      "'Name: t[2] \\n Domain: [[0, 412]]'\n",
      "'Name: t[3] \\n Domain: [[0, 415]]'\n",
      "'Name: t[4] \\n Domain: [[0, 432]]'\n",
      "'Name: t[5] \\n Domain: [[0, 441]]'\n",
      "'Name: t[8] \\n Domain: [[0, 441]]'\n",
      "'Name: t[6] \\n Domain: [[0, 439]]'\n",
      "'Name: t[7] \\n Domain: [[0, 433]]'\n",
      "'Name: t[9] \\n Domain: [[0, 477]]'\n"
     ]
    }
   ],
   "source": [
    "for var in instance_variables:\n",
    "    print(var)"
   ]
  }
 ],
 "metadata": {
  "kernelspec": {
   "display_name": "Python 3 (ipykernel)",
   "language": "python",
   "name": "python3"
  },
  "language_info": {
   "codemirror_mode": {
    "name": "ipython",
    "version": 3
   },
   "file_extension": ".py",
   "mimetype": "text/x-python",
   "name": "python",
   "nbconvert_exporter": "python",
   "pygments_lexer": "ipython3",
   "version": "3.9.12"
  }
 },
 "nbformat": 4,
 "nbformat_minor": 5
}
